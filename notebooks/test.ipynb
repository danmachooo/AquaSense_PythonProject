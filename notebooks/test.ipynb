{
 "cells": [
  {
   "cell_type": "code",
   "execution_count": 14,
   "metadata": {},
   "outputs": [
    {
     "name": "stdout",
     "output_type": "stream",
     "text": [
      "Model loaded successfully!\n",
      "\n",
      "Example prediction:\n",
      "Water quality parameters: {'pH': 6.101115011743209, 'Temperature': 20.591670111852693, 'Dissolved Oxygen': 7.962072844310212, 'Electrical Conductivity': 2.184233026512157, 'Turbidity': 1.0467102793432796, 'Nitrogen': 10.45227288910538, 'Phosphorus': 3.2236519310393126, 'Potassium': 18.584657285442727, 'Water Hardness': 77.74425485152653, 'pH_squared': 37.22360438651834, 'DO_EC_ratio': 3.6452488116729325, 'NPK_sum': 32.26058210558742}\n",
      "Predicted label: Great for lettuce\n"
     ]
    }
   ],
   "source": [
    "from joblib import load\n",
    "import pandas as pd\n",
    "from sklearn.model_selection import train_test_split\n",
    "\n",
    "# Step 1: Load the saved model\n",
    "model_path = '../models/trained/mdmc_modelv5.2.joblib'  # Replace with your actual path\n",
    "pipeline = load(model_path)\n",
    "print(\"Model loaded successfully!\")\n",
    "\n",
    "# Step 2: Load your data (assuming the dataset is in CSV format for this example)\n",
    "data_path = '../data/test_data.csv'  # Replace with the actual path to your dataset\n",
    "data = pd.read_csv(data_path)\n",
    "\n",
    "# Step 3: Feature engineering (add derived features as expected by the model)\n",
    "data['pH_squared'] = data['pH'] ** 2\n",
    "data['DO_EC_ratio'] = data['Dissolved Oxygen'] / data['Electrical Conductivity']\n",
    "data['NPK_sum'] = data['Nitrogen'] + data['Phosphorus'] + data['Potassium']\n",
    "\n",
    "# Step 4: Split your data into features (X) and target (y)\n",
    "X = data.drop('Label', axis=1)  # Replace 'Label' with your actual target column name\n",
    "y = data['Label']  # Replace with your actual target column name\n",
    "\n",
    "# Step 5: Split the dataset into training and testing sets\n",
    "X_train, X_test, y_train, y_test = train_test_split(X, y, test_size=0.2, random_state=42)\n",
    "\n",
    "# Example prediction\n",
    "print(\"\\nExample prediction:\")\n",
    "\n",
    "# Select an example row from the test data\n",
    "example = X_test.iloc[0:1]  # Use the first row of the test data for prediction (as a DataFrame)\n",
    "\n",
    "# Predict the label for this example\n",
    "prediction = pipeline.predict(example)\n",
    "\n",
    "# Output the feature values and the predicted label\n",
    "print(f\"Water quality parameters: {example.to_dict(orient='records')[0]}\")\n",
    "print(f\"Predicted label: {'Great for lettuce' if prediction[0] == 1 else 'Not great for lettuce'}\")\n"
   ]
  }
 ],
 "metadata": {
  "kernelspec": {
   "display_name": "venv",
   "language": "python",
   "name": "python3"
  },
  "language_info": {
   "codemirror_mode": {
    "name": "ipython",
    "version": 3
   },
   "file_extension": ".py",
   "mimetype": "text/x-python",
   "name": "python",
   "nbconvert_exporter": "python",
   "pygments_lexer": "ipython3",
   "version": "3.11.0"
  }
 },
 "nbformat": 4,
 "nbformat_minor": 2
}

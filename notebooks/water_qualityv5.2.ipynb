{
 "cells": [
  {
   "cell_type": "code",
   "execution_count": 1,
   "metadata": {},
   "outputs": [],
   "source": [
    "import pandas as pd\n",
    "import numpy as np\n",
    "from sklearn.model_selection import train_test_split, GridSearchCV\n",
    "from sklearn.preprocessing import StandardScaler\n",
    "from sklearn.linear_model import LogisticRegression\n",
    "from sklearn.ensemble import RandomForestClassifier, GradientBoostingClassifier\n",
    "from sklearn.svm import SVC\n",
    "from sklearn.metrics import accuracy_score, classification_report, confusion_matrix\n",
    "from sklearn.impute import SimpleImputer\n",
    "from sklearn.pipeline import Pipeline\n",
    "from imblearn.over_sampling import SMOTE\n",
    "import matplotlib.pyplot as plt\n",
    "import seaborn as sns\n",
    "import os"
   ]
  },
  {
   "cell_type": "code",
   "execution_count": 2,
   "metadata": {},
   "outputs": [
    {
     "name": "stdout",
     "output_type": "stream",
     "text": [
      "Loading the data...\n"
     ]
    }
   ],
   "source": [
    "# Load the data\n",
    "print(\"Loading the data...\")\n",
    "data_folder = 'data'\n",
    "data_file = '../data/water_quality_large_dataset.csv'\n",
    "data_path = os.path.join(data_folder, data_file)\n",
    "\n",
    "try:\n",
    "    data = pd.read_csv(data_file)\n",
    "except FileNotFoundError:\n",
    "    print(f\"Error: The file {data_file} was not found. Please check the file path and name.\")\n",
    "    exit(1)"
   ]
  },
  {
   "cell_type": "code",
   "execution_count": 3,
   "metadata": {},
   "outputs": [
    {
     "name": "stdout",
     "output_type": "stream",
     "text": [
      "First few rows of the dataset:\n",
      "      pH  Temperature  Dissolved Oxygen  Electrical Conductivity  Turbidity  \\\n",
      "0  14.66        31.04             17.81                  1805.27       7.68   \n",
      "1   4.44        28.15             14.79                  1809.79       8.80   \n",
      "2   5.89        22.58              9.50                  1799.57       4.37   \n",
      "3   9.23        33.29             15.84                  1190.14      -7.05   \n",
      "4   6.13        22.72              9.28                  1582.86       2.25   \n",
      "\n",
      "   Nitrogen  Phosphorus  Potassium  Water Hardness  Label  \n",
      "0     57.54       21.40      -0.45           52.82      0  \n",
      "1     14.52       19.09      27.91           55.32      0  \n",
      "2     41.37        9.43      12.02           70.56      1  \n",
      "3     55.00       17.63      -0.74           52.55      0  \n",
      "4     35.72        6.09      15.61           79.20      1  \n",
      "\n",
      "Dataset information:\n",
      "<class 'pandas.core.frame.DataFrame'>\n",
      "RangeIndex: 10000 entries, 0 to 9999\n",
      "Data columns (total 10 columns):\n",
      " #   Column                   Non-Null Count  Dtype  \n",
      "---  ------                   --------------  -----  \n",
      " 0   pH                       10000 non-null  float64\n",
      " 1   Temperature              10000 non-null  float64\n",
      " 2   Dissolved Oxygen         10000 non-null  float64\n",
      " 3   Electrical Conductivity  10000 non-null  float64\n",
      " 4   Turbidity                10000 non-null  float64\n",
      " 5   Nitrogen                 10000 non-null  float64\n",
      " 6   Phosphorus               10000 non-null  float64\n",
      " 7   Potassium                10000 non-null  float64\n",
      " 8   Water Hardness           10000 non-null  float64\n",
      " 9   Label                    10000 non-null  int64  \n",
      "dtypes: float64(9), int64(1)\n",
      "memory usage: 781.4 KB\n",
      "None\n"
     ]
    }
   ],
   "source": [
    "# Display the first few rows and data info\n",
    "print(\"First few rows of the dataset:\")\n",
    "print(data.head())\n",
    "print(\"\\nDataset information:\")\n",
    "print(data.info())"
   ]
  },
  {
   "cell_type": "code",
   "execution_count": 4,
   "metadata": {},
   "outputs": [],
   "source": [
    "# Feature engineering\n",
    "data['pH_squared'] = data['pH'] ** 2\n",
    "data['DO_EC_ratio'] = data['Dissolved Oxygen'] / data['Electrical Conductivity']\n",
    "data['NPK_sum'] = data['Nitrogen'] + data['Phosphorus'] + data['Potassium']"
   ]
  },
  {
   "cell_type": "code",
   "execution_count": 5,
   "metadata": {},
   "outputs": [],
   "source": [
    "\n",
    "# Separate features and target\n",
    "X = data.drop('Label', axis=1)\n",
    "y = data['Label']"
   ]
  },
  {
   "cell_type": "code",
   "execution_count": 6,
   "metadata": {},
   "outputs": [],
   "source": [
    "# Split the data\n",
    "X_train, X_test, y_train, y_test = train_test_split(X, y, test_size=0.2, random_state=42)"
   ]
  },
  {
   "cell_type": "code",
   "execution_count": 7,
   "metadata": {},
   "outputs": [],
   "source": [
    "# Handle class imbalance\n",
    "smote = SMOTE(random_state=42)\n",
    "X_train_resampled, y_train_resampled = smote.fit_resample(X_train, y_train)"
   ]
  },
  {
   "cell_type": "code",
   "execution_count": 8,
   "metadata": {},
   "outputs": [],
   "source": [
    "# A pipeline with imputation, scaling, and model\n",
    "pipeline = Pipeline([\n",
    "    ('imputer', SimpleImputer(strategy='median')),\n",
    "    ('scaler', StandardScaler()),\n",
    "    ('classifier', RandomForestClassifier(random_state=42))\n",
    "])\n"
   ]
  },
  {
   "cell_type": "code",
   "execution_count": 9,
   "metadata": {},
   "outputs": [],
   "source": [
    "# Define models to try\n",
    "models = {\n",
    "    'Logistic Regression': LogisticRegression(random_state=42, max_iter=1000),\n",
    "    'Random Forest': RandomForestClassifier(random_state=42),\n",
    "    'Gradient Boosting': GradientBoostingClassifier(random_state=42),\n",
    "    'SVM': SVC(random_state=42)\n",
    "}"
   ]
  },
  {
   "cell_type": "code",
   "execution_count": 10,
   "metadata": {},
   "outputs": [
    {
     "name": "stdout",
     "output_type": "stream",
     "text": [
      "\n",
      "Training Logistic Regression...\n",
      "Logistic Regression Accuracy: 0.92\n",
      "Logistic Regression Classification Report:\n",
      "              precision    recall  f1-score   support\n",
      "\n",
      "           0       1.00      0.84      0.91       996\n",
      "           1       0.86      1.00      0.93      1004\n",
      "\n",
      "    accuracy                           0.92      2000\n",
      "   macro avg       0.93      0.92      0.92      2000\n",
      "weighted avg       0.93      0.92      0.92      2000\n",
      "\n",
      "\n",
      "Training Random Forest...\n",
      "Random Forest Accuracy: 1.00\n",
      "Random Forest Classification Report:\n",
      "              precision    recall  f1-score   support\n",
      "\n",
      "           0       1.00      1.00      1.00       996\n",
      "           1       1.00      1.00      1.00      1004\n",
      "\n",
      "    accuracy                           1.00      2000\n",
      "   macro avg       1.00      1.00      1.00      2000\n",
      "weighted avg       1.00      1.00      1.00      2000\n",
      "\n",
      "\n",
      "Training Gradient Boosting...\n",
      "Gradient Boosting Accuracy: 1.00\n",
      "Gradient Boosting Classification Report:\n",
      "              precision    recall  f1-score   support\n",
      "\n",
      "           0       1.00      1.00      1.00       996\n",
      "           1       1.00      1.00      1.00      1004\n",
      "\n",
      "    accuracy                           1.00      2000\n",
      "   macro avg       1.00      1.00      1.00      2000\n",
      "weighted avg       1.00      1.00      1.00      2000\n",
      "\n",
      "\n",
      "Training SVM...\n",
      "SVM Accuracy: 1.00\n",
      "SVM Classification Report:\n",
      "              precision    recall  f1-score   support\n",
      "\n",
      "           0       1.00      1.00      1.00       996\n",
      "           1       1.00      1.00      1.00      1004\n",
      "\n",
      "    accuracy                           1.00      2000\n",
      "   macro avg       1.00      1.00      1.00      2000\n",
      "weighted avg       1.00      1.00      1.00      2000\n",
      "\n",
      "\n",
      "Best model: Random Forest with accuracy: 1.00\n"
     ]
    }
   ],
   "source": [
    "# Train and evaluate models\n",
    "results = {}\n",
    "for name, model in models.items():\n",
    "    print(f\"\\nTraining {name}...\")\n",
    "    pipeline.set_params(classifier=model)\n",
    "    pipeline.fit(X_train_resampled, y_train_resampled)\n",
    "    y_pred = pipeline.predict(X_test)\n",
    "    accuracy = accuracy_score(y_test, y_pred)\n",
    "    results[name] = accuracy\n",
    "    print(f\"{name} Accuracy: {accuracy:.2f}\")\n",
    "    print(f\"{name} Classification Report:\")\n",
    "    print(classification_report(y_test, y_pred))\n",
    "\n",
    "# Find the best model\n",
    "best_model_name = max(results, key=results.get)\n",
    "best_model = models[best_model_name]\n",
    "print(f\"\\nBest model: {best_model_name} with accuracy: {results[best_model_name]:.2f}\")"
   ]
  },
  {
   "cell_type": "code",
   "execution_count": 11,
   "metadata": {},
   "outputs": [],
   "source": [
    "# Hyperparameter tuning for the best model\n",
    "if best_model_name == 'Logistic Regression':\n",
    "    param_grid = {'C': [0.001, 0.01, 0.1, 1, 10, 100]}\n",
    "elif best_model_name in ['Random Forest', 'Gradient Boosting']:\n",
    "    param_grid = {\n",
    "        'n_estimators': [50, 100, 200],\n",
    "        'max_depth': [None, 10, 20, 30],\n",
    "        'min_samples_split': [2, 5, 10]\n",
    "    }\n",
    "elif best_model_name == 'SVM':\n",
    "    param_grid = {\n",
    "        'C': [0.1, 1, 10],\n",
    "        'kernel': ['rbf', 'linear']\n",
    "    }"
   ]
  },
  {
   "cell_type": "code",
   "execution_count": 12,
   "metadata": {},
   "outputs": [
    {
     "name": "stdout",
     "output_type": "stream",
     "text": [
      "\n",
      "Performing hyperparameter tuning...\n",
      "Best parameters: {'max_depth': None, 'min_samples_split': 2, 'n_estimators': 50}\n",
      "\n",
      "Final Model Accuracy: 1.00\n",
      "\n",
      "Final Classification Report:\n",
      "              precision    recall  f1-score   support\n",
      "\n",
      "           0       1.00      1.00      1.00       996\n",
      "           1       1.00      1.00      1.00      1004\n",
      "\n",
      "    accuracy                           1.00      2000\n",
      "   macro avg       1.00      1.00      1.00      2000\n",
      "weighted avg       1.00      1.00      1.00      2000\n",
      "\n"
     ]
    }
   ],
   "source": [
    "print(\"\\nPerforming hyperparameter tuning...\")\n",
    "grid_search = GridSearchCV(best_model, param_grid, cv=5, n_jobs=-1)\n",
    "pipeline.set_params(classifier=grid_search)\n",
    "pipeline.fit(X_train_resampled, y_train_resampled)\n",
    "\n",
    "best_model = pipeline.named_steps['classifier'].best_estimator_\n",
    "print(\"Best parameters:\", pipeline.named_steps['classifier'].best_params_)\n",
    "\n",
    "# Final evaluation\n",
    "y_pred = pipeline.predict(X_test)\n",
    "final_accuracy = accuracy_score(y_test, y_pred)\n",
    "print(f\"\\nFinal Model Accuracy: {final_accuracy:.2f}\")\n",
    "print(\"\\nFinal Classification Report:\")\n",
    "print(classification_report(y_test, y_pred))\n"
   ]
  },
  {
   "cell_type": "code",
   "execution_count": 20,
   "metadata": {},
   "outputs": [
    {
     "name": "stdout",
     "output_type": "stream",
     "text": [
      "Feature importance plot saved as 'feature_importance.png'\n"
     ]
    },
    {
     "data": {
      "image/png": "[encoded data removed]",
      "text/plain": [
       "<Figure size 1200x600 with 1 Axes>"
      ]
     },
     "metadata": {},
     "output_type": "display_data"
    }
   ],
   "source": [
    "# Plot feature importance\n",
    "if hasattr(best_model, 'feature_importances_'):\n",
    "    importances = best_model.feature_importances_\n",
    "elif hasattr(best_model, 'coef_'):\n",
    "    importances = np.abs(best_model.coef_[0])\n",
    "else:\n",
    "    importances = None\n",
    "\n",
    "if importances is not None:\n",
    "    plt.figure(figsize=(12, 6))\n",
    "    feature_importance = pd.DataFrame({'feature': X.columns, 'importance': importances})\n",
    "    feature_importance = feature_importance.sort_values('importance', ascending=False)\n",
    "    sns.barplot(x='importance', y='feature', data=feature_importance)\n",
    "    plt.title('Feature Importance')\n",
    "    plt.tight_layout()\n",
    "    plt.savefig('feature_importance.png')\n",
    "    print(\"Feature importance plot saved as 'feature_importance.png'\")"
   ]
  },
  {
   "cell_type": "code",
   "execution_count": 21,
   "metadata": {},
   "outputs": [
    {
     "name": "stdout",
     "output_type": "stream",
     "text": [
      "Confusion matrix plot saved as 'confusion_matrix.png'\n"
     ]
    },
    {
     "data": {
      "image/png": "[encoded data removed]",
      "text/plain": [
       "<Figure size 800x600 with 2 Axes>"
      ]
     },
     "metadata": {},
     "output_type": "display_data"
    }
   ],
   "source": [
    "# Plot confusion matrix\n",
    "plt.figure(figsize=(8, 6))\n",
    "cm = confusion_matrix(y_test, y_pred)\n",
    "sns.heatmap(cm, annot=True, fmt='d', cmap='Blues')\n",
    "plt.title('Confusion Matrix')\n",
    "plt.ylabel('True Label')\n",
    "plt.xlabel('Predicted Label')\n",
    "plt.tight_layout()\n",
    "plt.savefig('confusion_matrix.png')\n",
    "print(\"Confusion matrix plot saved as 'confusion_matrix.png'\")\n"
   ]
  },
  {
   "cell_type": "code",
   "execution_count": 22,
   "metadata": {},
   "outputs": [
    {
     "name": "stdout",
     "output_type": "stream",
     "text": [
      "\n",
      "Example prediction:\n",
      "Water quality parameters: {'pH': 9.67, 'Temperature': 28.41, 'Dissolved Oxygen': 18.16, 'Electrical Conductivity': 1809.61, 'Turbidity': 7.06, 'Nitrogen': 50.87, 'Phosphorus': -2.97, 'Potassium': -0.24, 'Water Hardness': 127.32, 'pH_squared': 93.5089, 'DO_EC_ratio': 0.010035311475953382, 'NPK_sum': 47.66}\n",
      "Predicted label: Not great for lettuce\n"
     ]
    },
    {
     "name": "stderr",
     "output_type": "stream",
     "text": [
      "c:\\Users\\UGH\\Desktop\\Water_Quality_monitoringV2\\venv\\Lib\\site-packages\\sklearn\\base.py:493: UserWarning: X does not have valid feature names, but SimpleImputer was fitted with feature names\n",
      "  warnings.warn(\n"
     ]
    }
   ],
   "source": [
    "\n",
    "# Example prediction\n",
    "print(\"\\nExample prediction:\")\n",
    "example = X_test.iloc[0]\n",
    "prediction = pipeline.predict([example])\n",
    "print(f\"Water quality parameters: {example.to_dict()}\")\n",
    "print(f\"Predicted label: {'Great for lettuce' if prediction[0] == 1 else 'Not great for lettuce'}\")\n"
   ]
  },
  {
   "cell_type": "code",
   "execution_count": 24,
   "metadata": {},
   "outputs": [
    {
     "name": "stdout",
     "output_type": "stream",
     "text": [
      "Model has been saved and named \"mdmc_model.\" \n"
     ]
    }
   ],
   "source": [
    "from joblib import dump, load\n",
    "\n",
    "# Save model\n",
    "dump(pipeline, '../models/trained/mdmc_modelv5.2.joblib')\n",
    "print('Model has been saved and named \"mdmc_model.\" ')"
   ]
  },
  {
   "cell_type": "code",
   "execution_count": null,
   "metadata": {},
   "outputs": [],
   "source": []
  }
 ],
 "metadata": {
  "kernelspec": {
   "display_name": "venv",
   "language": "python",
   "name": "python3"
  },
  "language_info": {
   "codemirror_mode": {
    "name": "ipython",
    "version": 3
   },
   "file_extension": ".py",
   "mimetype": "text/x-python",
   "name": "python",
   "nbconvert_exporter": "python",
   "pygments_lexer": "ipython3",
   "version": "3.11.0"
  }
 },
 "nbformat": 4,
 "nbformat_minor": 2
}
